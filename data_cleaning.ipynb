{
 "cells": [
  {
   "cell_type": "markdown",
   "id": "d4b84183",
   "metadata": {},
   "source": [
    "# Data Cleaning and Preprocessing\n",
    "\n",
    "This notebook is part of the **DataCleaning** project. It focuses on cleaning and preparing a dataset using Python and widely used data science libraries such as:\n",
    "\n",
    "- `pandas` for data manipulation  \n",
    "- `numpy` for numerical operations  \n",
    "- `matplotlib` and `seaborn` for basic visualization\n",
    "\n",
    "The aim is to structure the data in a way that makes it suitable for further analysis or machine learning tasks. Steps and techniques are added progressively as the work evolves.\n"
   ]
  },
  {
   "cell_type": "markdown",
   "id": "d13bacbd",
   "metadata": {},
   "source": [
    "## Dataset\n",
    "\n",
    "The dataset is Adult.csv"
   ]
  },
  {
   "cell_type": "code",
   "execution_count": 1,
   "id": "207d7b0e",
   "metadata": {},
   "outputs": [],
   "source": [
    "import seaborn as sean\n",
    "import matplotlib.pyplot as plt\n",
    "import pandas as pd\n",
    "import numpy as np"
   ]
  }
 ],
 "metadata": {
  "kernelspec": {
   "display_name": "ml_env",
   "language": "python",
   "name": "python3"
  },
  "language_info": {
   "codemirror_mode": {
    "name": "ipython",
    "version": 3
   },
   "file_extension": ".py",
   "mimetype": "text/x-python",
   "name": "python",
   "nbconvert_exporter": "python",
   "pygments_lexer": "ipython3",
   "version": "3.13.2"
  }
 },
 "nbformat": 4,
 "nbformat_minor": 5
}
